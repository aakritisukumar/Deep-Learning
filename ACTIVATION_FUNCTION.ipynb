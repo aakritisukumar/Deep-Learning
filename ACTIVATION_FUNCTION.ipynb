{
  "nbformat": 4,
  "nbformat_minor": 0,
  "metadata": {
    "colab": {
      "provenance": []
    },
    "kernelspec": {
      "name": "python3",
      "display_name": "Python 3"
    },
    "language_info": {
      "name": "python"
    }
  },
  "cells": [
    {
      "cell_type": "markdown",
      "source": [
        "CV DL lab2"
      ],
      "metadata": {
        "id": "VA2u35IdXlcG"
      }
    },
    {
      "cell_type": "code",
      "execution_count": null,
      "metadata": {
        "id": "p2CR554WXfHc"
      },
      "outputs": [],
      "source": [
        "# 1. Sigmoid Function\n",
        "\n",
        "import math"
      ]
    },
    {
      "cell_type": "code",
      "source": [
        "math.exp(1) #e^1  = 2.71"
      ],
      "metadata": {
        "colab": {
          "base_uri": "https://localhost:8080/"
        },
        "id": "G8YVJYaeYJ3_",
        "outputId": "1a6797aa-dbac-4ee7-970a-8c0431df0c66"
      },
      "execution_count": null,
      "outputs": [
        {
          "output_type": "execute_result",
          "data": {
            "text/plain": [
              "2.718281828459045"
            ]
          },
          "metadata": {},
          "execution_count": 2
        }
      ]
    },
    {
      "cell_type": "code",
      "source": [
        "math.exp(2) #e^2 = e * e = 7.38"
      ],
      "metadata": {
        "colab": {
          "base_uri": "https://localhost:8080/"
        },
        "id": "Usf1LZBpYJ7R",
        "outputId": "5977d6cf-3b92-43df-e763-7772d3b8716b"
      },
      "execution_count": null,
      "outputs": [
        {
          "output_type": "execute_result",
          "data": {
            "text/plain": [
              "7.38905609893065"
            ]
          },
          "metadata": {},
          "execution_count": 3
        }
      ]
    },
    {
      "cell_type": "code",
      "source": [
        "def sigmoid(x):\n",
        "  print(1 / (1 + math.exp(-x)))"
      ],
      "metadata": {
        "id": "KGXaarCuYg6K"
      },
      "execution_count": null,
      "outputs": []
    },
    {
      "cell_type": "code",
      "source": [
        "# calling\n",
        "sigmoid(0.5)"
      ],
      "metadata": {
        "colab": {
          "base_uri": "https://localhost:8080/"
        },
        "id": "f-MKeqOdYg9x",
        "outputId": "ea8a5b5e-dd5c-44a5-f154-b33472315c86"
      },
      "execution_count": null,
      "outputs": [
        {
          "output_type": "stream",
          "name": "stdout",
          "text": [
            "0.6224593312018546\n"
          ]
        }
      ]
    },
    {
      "cell_type": "markdown",
      "source": [
        "# 2. Tanh(x) activation function:  "
      ],
      "metadata": {
        "id": "TQ0gGnimZmPT"
      }
    },
    {
      "cell_type": "code",
      "source": [
        "def tan(x):\n",
        "  print(math.exp(x) - math.exp(-x)/(math.exp(x) + math.exp(-x)))"
      ],
      "metadata": {
        "id": "2JbdTSHhYhBO"
      },
      "execution_count": null,
      "outputs": []
    },
    {
      "cell_type": "code",
      "source": [
        "#calling\n",
        "\n",
        "tan(-56)"
      ],
      "metadata": {
        "colab": {
          "base_uri": "https://localhost:8080/"
        },
        "id": "rJW_A_dTYhGi",
        "outputId": "7853a9de-90df-4915-e253-09cb6a9a9527"
      },
      "execution_count": null,
      "outputs": [
        {
          "output_type": "stream",
          "name": "stdout",
          "text": [
            "-1.0\n"
          ]
        }
      ]
    },
    {
      "cell_type": "code",
      "source": [
        "tan(50)"
      ],
      "metadata": {
        "colab": {
          "base_uri": "https://localhost:8080/"
        },
        "id": "vSRjAd0fanB-",
        "outputId": "c94c2410-82ac-490c-ad14-70d8def7d567"
      },
      "execution_count": null,
      "outputs": [
        {
          "output_type": "stream",
          "name": "stdout",
          "text": [
            "5.184705528587072e+21\n"
          ]
        }
      ]
    },
    {
      "cell_type": "markdown",
      "source": [
        "# 3. RELU activation function"
      ],
      "metadata": {
        "id": "o0Ht4zeRap9K"
      }
    },
    {
      "cell_type": "code",
      "source": [
        "def relu(x):\n",
        "  print(max(0,x))"
      ],
      "metadata": {
        "id": "SXOfejSOanEn"
      },
      "execution_count": null,
      "outputs": []
    },
    {
      "cell_type": "code",
      "source": [
        "#calling\n",
        "relu(-7)"
      ],
      "metadata": {
        "colab": {
          "base_uri": "https://localhost:8080/"
        },
        "id": "USnHmPEFanII",
        "outputId": "d00b5cf9-0158-4cb1-c911-b70315455978"
      },
      "execution_count": null,
      "outputs": [
        {
          "output_type": "stream",
          "name": "stdout",
          "text": [
            "0\n"
          ]
        }
      ]
    },
    {
      "cell_type": "code",
      "source": [
        "relu(87)"
      ],
      "metadata": {
        "colab": {
          "base_uri": "https://localhost:8080/"
        },
        "id": "aMkhWuvZa6Gt",
        "outputId": "c7c25eb4-b4d5-4660-ab27-61312592f5ba"
      },
      "execution_count": null,
      "outputs": [
        {
          "output_type": "stream",
          "name": "stdout",
          "text": [
            "87\n"
          ]
        }
      ]
    },
    {
      "cell_type": "markdown",
      "source": [
        "# 4. Lealu relu activation function"
      ],
      "metadata": {
        "id": "eC7nWkYEa-gY"
      }
    },
    {
      "cell_type": "code",
      "source": [
        "def leaky(x):\n",
        "  print(max(0.1*x, x))\n"
      ],
      "metadata": {
        "id": "AUD2WPvfa6Lx"
      },
      "execution_count": null,
      "outputs": []
    },
    {
      "cell_type": "code",
      "source": [
        "leaky(-5)"
      ],
      "metadata": {
        "colab": {
          "base_uri": "https://localhost:8080/"
        },
        "id": "kqxzJ3KJa6PO",
        "outputId": "1c4060cc-7600-4eef-ecc5-198a1620bcf4"
      },
      "execution_count": null,
      "outputs": [
        {
          "output_type": "stream",
          "name": "stdout",
          "text": [
            "-0.5\n"
          ]
        }
      ]
    }
  ]
}