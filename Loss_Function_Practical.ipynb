{
  "nbformat": 4,
  "nbformat_minor": 0,
  "metadata": {
    "colab": {
      "provenance": []
    },
    "kernelspec": {
      "name": "python3",
      "display_name": "Python 3"
    },
    "language_info": {
      "name": "python"
    }
  },
  "cells": [
    {
      "cell_type": "markdown",
      "source": [
        "#CV DL"
      ],
      "metadata": {
        "id": "jyvJ-X-njEIy"
      }
    },
    {
      "cell_type": "code",
      "execution_count": null,
      "metadata": {
        "id": "XOxoJHYViv1W"
      },
      "outputs": [],
      "source": [
        "import numpy as np"
      ]
    },
    {
      "cell_type": "code",
      "source": [
        "y_actual = np.array([0.30, 0.7,1,0, 0.5])\n",
        "y_predicted = np.array([1, 1, 0, 0 ,1])"
      ],
      "metadata": {
        "id": "bYOfgbKojUbE"
      },
      "execution_count": null,
      "outputs": []
    },
    {
      "cell_type": "code",
      "source": [
        "y_actual"
      ],
      "metadata": {
        "colab": {
          "base_uri": "https://localhost:8080/"
        },
        "id": "KROU48Vejoc-",
        "outputId": "daba2c09-a523-41ed-a579-5be4ab1bce05"
      },
      "execution_count": null,
      "outputs": [
        {
          "output_type": "execute_result",
          "data": {
            "text/plain": [
              "array([0.3, 0.7, 1. , 0. , 0.5])"
            ]
          },
          "metadata": {},
          "execution_count": 3
        }
      ]
    },
    {
      "cell_type": "code",
      "source": [
        "y_predicted"
      ],
      "metadata": {
        "colab": {
          "base_uri": "https://localhost:8080/"
        },
        "id": "8CRmXImEjof0",
        "outputId": "ad6a8cce-31da-4c48-fd64-075518c1d498"
      },
      "execution_count": null,
      "outputs": [
        {
          "output_type": "execute_result",
          "data": {
            "text/plain": [
              "array([1, 1, 0, 0, 1])"
            ]
          },
          "metadata": {},
          "execution_count": 4
        }
      ]
    },
    {
      "cell_type": "markdown",
      "source": [
        "#1. Mean Squared Error (MSE)"
      ],
      "metadata": {
        "id": "HRx-jLUjjtOh"
      }
    },
    {
      "cell_type": "code",
      "source": [
        "def mse(y_actual,y_predicted):\n",
        "  total_error = 0\n",
        "  for ya, yp in zip(y_actual, y_predicted): #zip function will help in iterating two differnt iterators in a single for loop\n",
        "    total_error +=  (ya -yp)**2\n",
        "  print(\"Total error is\", total_error)\n",
        "  mse = total_error / len(y_actual)\n",
        "  print(\"MSE is\", mse)\n"
      ],
      "metadata": {
        "id": "9i5ILL_fjs2M"
      },
      "execution_count": null,
      "outputs": []
    },
    {
      "cell_type": "code",
      "source": [
        "# calling function\n",
        "\n",
        "mse(y_actual, y_predicted)\n"
      ],
      "metadata": {
        "colab": {
          "base_uri": "https://localhost:8080/"
        },
        "id": "LepqHzwJjojK",
        "outputId": "c52737c2-c95f-4d04-b6f9-83bee1ba8cc4"
      },
      "execution_count": null,
      "outputs": [
        {
          "output_type": "stream",
          "name": "stdout",
          "text": [
            "Total error is 1.83\n",
            "MSE is 0.366\n"
          ]
        }
      ]
    },
    {
      "cell_type": "markdown",
      "source": [
        "#2. Mean Absolute Error"
      ],
      "metadata": {
        "id": "ra53M0lFq7m3"
      }
    },
    {
      "cell_type": "code",
      "source": [
        "def mae(y_actual,y_predicted):\n",
        "  total_error = 0\n",
        "  for ya, yp in zip(y_actual, y_predicted): #zip function will help in iterating two differnt iterators in a single for loop\n",
        "    total_error +=  abs(ya -yp)\n",
        "  print(\"Total error is\", total_error)\n",
        "  mae = total_error / len(y_actual)\n",
        "  print(\"MAE is\", mae)"
      ],
      "metadata": {
        "id": "RWayUXEJq-ln"
      },
      "execution_count": null,
      "outputs": []
    },
    {
      "cell_type": "code",
      "source": [
        "mae(y_actual, y_predicted)"
      ],
      "metadata": {
        "colab": {
          "base_uri": "https://localhost:8080/"
        },
        "id": "jPdN343nq-oI",
        "outputId": "c9a5c647-f536-40ac-b701-ef5cb739c455"
      },
      "execution_count": null,
      "outputs": [
        {
          "output_type": "stream",
          "name": "stdout",
          "text": [
            "Total error is 2.5\n",
            "MAE is 0.5\n"
          ]
        }
      ]
    },
    {
      "cell_type": "markdown",
      "source": [
        "#3. Log Loss"
      ],
      "metadata": {
        "id": "00D-8nQjsUt9"
      }
    },
    {
      "cell_type": "markdown",
      "source": [
        "Since log(0) is not defined we cant put y_pred as 0 or 1 ...so we will replace 0 with 0.0000001 which is close to zero and 1 with 0.999999"
      ],
      "metadata": {
        "id": "FdIyGcr6h6ht"
      }
    },
    {
      "cell_type": "code",
      "source": [
        "y_predicted"
      ],
      "metadata": {
        "colab": {
          "base_uri": "https://localhost:8080/"
        },
        "id": "K54CtEbzq-sW",
        "outputId": "960dabdb-60e4-474a-c649-7e6051f77b11"
      },
      "execution_count": null,
      "outputs": [
        {
          "output_type": "execute_result",
          "data": {
            "text/plain": [
              "array([1, 1, 0, 0, 1])"
            ]
          },
          "metadata": {},
          "execution_count": 9
        }
      ]
    },
    {
      "cell_type": "code",
      "source": [
        "np.log([0]) #log 0 not defined"
      ],
      "metadata": {
        "colab": {
          "base_uri": "https://localhost:8080/"
        },
        "id": "nwtCuuvWfhvl",
        "outputId": "a1f8541e-fe40-4f91-ff27-069ff837c2b8"
      },
      "execution_count": null,
      "outputs": [
        {
          "output_type": "stream",
          "name": "stderr",
          "text": [
            "<ipython-input-11-faee82fd9f21>:1: RuntimeWarning: divide by zero encountered in log\n",
            "  np.log([0])\n"
          ]
        },
        {
          "output_type": "execute_result",
          "data": {
            "text/plain": [
              "array([-inf])"
            ]
          },
          "metadata": {},
          "execution_count": 11
        }
      ]
    },
    {
      "cell_type": "code",
      "source": [
        "epsilon = 1e-15    #e^-15 = 1/2.71^-15 = very small value close to zero\n",
        "print(epsilon)"
      ],
      "metadata": {
        "colab": {
          "base_uri": "https://localhost:8080/"
        },
        "id": "AZY-aFwvfhyq",
        "outputId": "2064a363-faf5-4f55-c4bc-ce0cdfc488ae"
      },
      "execution_count": null,
      "outputs": [
        {
          "output_type": "stream",
          "name": "stdout",
          "text": [
            "1e-15\n"
          ]
        }
      ]
    },
    {
      "cell_type": "code",
      "source": [
        "np.log(epsilon)"
      ],
      "metadata": {
        "colab": {
          "base_uri": "https://localhost:8080/"
        },
        "id": "dlex8Bx_fh2X",
        "outputId": "efad7277-6b7b-466d-d523-c9c43347b8ec"
      },
      "execution_count": null,
      "outputs": [
        {
          "output_type": "execute_result",
          "data": {
            "text/plain": [
              "-34.538776394910684"
            ]
          },
          "metadata": {},
          "execution_count": 13
        }
      ]
    },
    {
      "cell_type": "code",
      "source": [
        "#so we will replace our zero with epsilon"
      ],
      "metadata": {
        "id": "tCRsLS-Pfh5s"
      },
      "execution_count": null,
      "outputs": []
    },
    {
      "cell_type": "code",
      "source": [
        "y_pred_new = [max(i, epsilon) for i in y_predicted]\n",
        "y_pred_new\n",
        "\n",
        "#For each element i, it returns the maximum of i and epsilon. This ensures that if i is less than epsilon, it is replaced with epsilon"
      ],
      "metadata": {
        "colab": {
          "base_uri": "https://localhost:8080/"
        },
        "id": "LiTPEGRSgRhN",
        "outputId": "28d7c24e-fc94-4b98-a28b-b88e80afd263"
      },
      "execution_count": null,
      "outputs": [
        {
          "output_type": "execute_result",
          "data": {
            "text/plain": [
              "[1, 1, 1e-15, 1e-15, 1]"
            ]
          },
          "metadata": {},
          "execution_count": 19
        }
      ]
    },
    {
      "cell_type": "markdown",
      "source": [
        "next task to replace 1 with 0.99999"
      ],
      "metadata": {
        "id": "jWVHwfAkmiif"
      }
    },
    {
      "cell_type": "code",
      "source": [
        "y_pred_new =np.array([min(i, 1-epsilon) for i in y_pred_new])\n",
        "y_pred_new"
      ],
      "metadata": {
        "colab": {
          "base_uri": "https://localhost:8080/"
        },
        "id": "zCTWam6KgRkL",
        "outputId": "616d4268-8d63-4872-9327-1b1de4dede54"
      },
      "execution_count": null,
      "outputs": [
        {
          "output_type": "execute_result",
          "data": {
            "text/plain": [
              "array([1.e+00, 1.e+00, 1.e-15, 1.e-15, 1.e+00])"
            ]
          },
          "metadata": {},
          "execution_count": 23
        }
      ]
    },
    {
      "cell_type": "markdown",
      "source": [
        "now are values are ready to feed in logloss equstion"
      ],
      "metadata": {
        "id": "wy7pNTpWosUF"
      }
    },
    {
      "cell_type": "code",
      "source": [
        "-np.mean(y_actual* np.log(y_pred_new) + (1 - y_actual)* np.log(1- y_pred_new))"
      ],
      "metadata": {
        "colab": {
          "base_uri": "https://localhost:8080/"
        },
        "id": "mYBOYNkKoMeX",
        "outputId": "993b339d-5eac-4b53-9bfc-fa19517a8d5b"
      },
      "execution_count": null,
      "outputs": [
        {
          "output_type": "execute_result",
          "data": {
            "text/plain": [
              "17.2696280766844"
            ]
          },
          "metadata": {},
          "execution_count": 24
        }
      ]
    },
    {
      "cell_type": "markdown",
      "source": [
        "#now we will put everything inside the function"
      ],
      "metadata": {
        "id": "XeC8tUZApu2c"
      }
    },
    {
      "cell_type": "code",
      "source": [
        "def logloss(y_actual, y_predicted):\n",
        "  y_pred_new = [max(i , epsilon) for i in y_predicted]\n",
        "  y_pred_new = [min(i , 1-epsilon)for i in y_pred_new]\n",
        "  y_pred_new = np.array(y_pred_new)\n",
        "  return -np.mean(y_actual * np.log(y_pred_new) + (1-y_actual) * np.log(1 - y_pred_new))"
      ],
      "metadata": {
        "id": "qEMr1bf_gRnr"
      },
      "execution_count": null,
      "outputs": []
    },
    {
      "cell_type": "code",
      "source": [
        "#calling the function\n",
        "logloss(y_actual, y_predicted)"
      ],
      "metadata": {
        "colab": {
          "base_uri": "https://localhost:8080/"
        },
        "id": "mrTcilFhgRrJ",
        "outputId": "c00883e0-755e-4084-b482-86f066499909"
      },
      "execution_count": null,
      "outputs": [
        {
          "output_type": "execute_result",
          "data": {
            "text/plain": [
              "17.2696280766844"
            ]
          },
          "metadata": {},
          "execution_count": 26
        }
      ]
    },
    {
      "cell_type": "code",
      "source": [],
      "metadata": {
        "id": "5nMd8LPLrXU3"
      },
      "execution_count": null,
      "outputs": []
    },
    {
      "cell_type": "code",
      "source": [],
      "metadata": {
        "id": "3neq-jh6rXYe"
      },
      "execution_count": null,
      "outputs": []
    },
    {
      "cell_type": "code",
      "source": [],
      "metadata": {
        "id": "tMOp-YqSrYOt"
      },
      "execution_count": null,
      "outputs": []
    },
    {
      "cell_type": "code",
      "source": [],
      "metadata": {
        "id": "8-xrMOqorYSV"
      },
      "execution_count": null,
      "outputs": []
    }
  ]
}